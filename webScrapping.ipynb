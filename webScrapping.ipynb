{
 "cells": [
  {
   "cell_type": "markdown",
   "id": "b40b95a9-94d4-4899-8d98-9d4d751e321b",
   "metadata": {},
   "source": [
    "## Regular Expression\n",
    "# Regex >> Regular Expression\n",
    "- It is the sequence of character used to check whether pattern is in given text / string\n",
    "- extract email,phoneNum , Adhar card,ifsc ,voter Id -> to extract this information we use Regex "
   ]
  },
  {
   "cell_type": "code",
   "execution_count": 1,
   "id": "ad7584aa-d067-4c51-9940-0185fbb4a692",
   "metadata": {},
   "outputs": [],
   "source": [
    "import re"
   ]
  },
  {
   "cell_type": "markdown",
   "id": "8bf135be-0b1e-49ab-8bac-74f37be382f1",
   "metadata": {},
   "source": [
    "### Used in :\n",
    "- NLP (natural language processing) \n",
    "- Text Processing\n",
    "- Web Scrapping -Data Cleansing\n",
    "- OCR -Optical Character REcognition:\n",
    "      to convert image into string\n",
    "- Google Vision: Internet availibility needed\n",
    "- Amazon Textract: Internet availibility needed\n",
    "- Pytesseract: Image Processing\n",
    "- - Noise\n",
    "  - Skew Correction"
   ]
  },
  {
   "cell_type": "markdown",
   "id": "cf4179e8-b031-4da5-82e3-299f3b9a178b",
   "metadata": {},
   "source": [
    "- Type of DataStructure:\n",
    "  - Structured Data >> DAta in Table Format : Excel ,CSV\n",
    "  - Semi-Structured Data >> Partially Structure : Json,HTML\n",
    "  - Unstructure Data >> Data not in the format table: Images ,Texts,Audio,video"
   ]
  },
  {
   "cell_type": "markdown",
   "id": "ad834a1e-88e9-43a6-9b55-fb15c35b72be",
   "metadata": {},
   "source": [
    "## Regular Expression Fucntions\n",
    "\n",
    "- import re\n",
    "  - 1. re.findall()\n",
    "    2. re.sub()\n",
    "    3. re.match()\n",
    "    4. re.search()\n",
    "    5. re.compile()"
   ]
  },
  {
   "cell_type": "markdown",
   "id": "9c63a5fe-51e7-44b1-8eb2-e7089d72f951",
   "metadata": {},
   "source": [
    "## 1. re.findall() \n",
    "\n",
    "- Return a list of matches in String\n",
    "- re.findall(pattern,text)"
   ]
  },
  {
   "cell_type": "code",
   "execution_count": 4,
   "id": "0da76931-eb59-46b3-8dea-cd6a10e1241c",
   "metadata": {},
   "outputs": [],
   "source": [
    "import re"
   ]
  },
  {
   "cell_type": "code",
   "execution_count": 75,
   "id": "2d402fa2-5441-4167-8ca4-e6465ce56e86",
   "metadata": {},
   "outputs": [],
   "source": [
    "text = ''' my mobile number is 7815052095\n",
    "email id is shuvampoddar018@gmail.com\n",
    "today date is : 16-02-2025\n",
    "Mobile number is : 9668408401\n",
    "email id: shuvam@gmail.com\n",
    "preeti-zinta@gmail.com\n",
    "\n",
    "07-06-2022\n",
    "08/09/2004\n",
    "23-11-2005\n",
    "20-11-2003\n",
    "PAN CARD NUMBER: RTFDS1234J\n",
    "PAN CARD NUMBER: TFGHU8976P\n",
    "PAN CARD NUMBER: GHTCI1122O\n",
    "'''"
   ]
  },
  {
   "cell_type": "code",
   "execution_count": 76,
   "id": "c3ed4cf3-3cd1-468d-9af3-f692f462704f",
   "metadata": {},
   "outputs": [
    {
     "name": "stdout",
     "output_type": "stream",
     "text": [
      " my mobile number is 7815052095\n",
      "email id is shuvampoddar018@gmail.com\n",
      "today date is : 16-02-2025\n",
      "Mobile number is : 9668408401\n",
      "email id: shuvam@gmail.com\n",
      "preeti-zinta@gmail.com\n",
      "\n",
      "07-06-2022\n",
      "08/09/2004\n",
      "23-11-2005\n",
      "20-11-2003\n",
      "PAN CARD NUMBER: RTFDS1234J\n",
      "PAN CARD NUMBER: TFGHU8976P\n",
      "PAN CARD NUMBER: GHTCI1122O\n",
      "\n"
     ]
    }
   ],
   "source": [
    "print(text)"
   ]
  },
  {
   "cell_type": "code",
   "execution_count": 77,
   "id": "03777411-6bac-4433-96e8-a0071d0d1968",
   "metadata": {},
   "outputs": [
    {
     "data": {
      "text/plain": [
       "['7815052095', '9668408401']"
      ]
     },
     "execution_count": 77,
     "metadata": {},
     "output_type": "execute_result"
    }
   ],
   "source": [
    "#  10 digit \n",
    "mobile_num = re.findall('[0-9]{10}',text)\n",
    "mobile_num"
   ]
  },
  {
   "cell_type": "code",
   "execution_count": 78,
   "id": "fa75a05d-992a-44f0-b977-5ae4f49466cf",
   "metadata": {},
   "outputs": [
    {
     "data": {
      "text/plain": [
       "['16-02-2025', '07-06-2022', '08/09/2004', '23-11-2005', '20-11-2003']"
      ]
     },
     "execution_count": 78,
     "metadata": {},
     "output_type": "execute_result"
    }
   ],
   "source": [
    "date = re.findall('[0-9]{2}[-/][0-9]{2}[-/][0-9]{4}',text)\n",
    "date"
   ]
  },
  {
   "cell_type": "code",
   "execution_count": 79,
   "id": "c5668c23-eff2-4258-acad-d0285db4de9f",
   "metadata": {},
   "outputs": [
    {
     "data": {
      "text/plain": [
       "['RTFDS1234J', 'TFGHU8976P', 'GHTCI1122O']"
      ]
     },
     "execution_count": 79,
     "metadata": {},
     "output_type": "execute_result"
    }
   ],
   "source": [
    "PAN_NUM = re.findall('[A-Z]{5}[0-9]{4}[A-Z]{1}',text)\n",
    "PAN_NUM"
   ]
  },
  {
   "cell_type": "code",
   "execution_count": 80,
   "id": "6343a64b-99b7-4da9-a72a-5b64b513acbd",
   "metadata": {},
   "outputs": [
    {
     "data": {
      "text/plain": [
       "['shuvam@gmail', 'zinta@gmail']"
      ]
     },
     "execution_count": 80,
     "metadata": {},
     "output_type": "execute_result"
    }
   ],
   "source": [
    "email_id = re.findall('[a-z]{1,20}@[a-z]{1,10}',text)\n",
    "email_id"
   ]
  },
  {
   "cell_type": "code",
   "execution_count": 82,
   "id": "f21d4528-2f81-4f2c-bded-cb9be7ae2c96",
   "metadata": {},
   "outputs": [
    {
     "data": {
      "text/plain": [
       "['shuvampoddar018@gmail', 'shuvam@gmail', 'preeti-zinta@gmail']"
      ]
     },
     "execution_count": 82,
     "metadata": {},
     "output_type": "execute_result"
    }
   ],
   "source": [
    "# better way\n",
    "email =  re.findall('[a-z0-9-]{1,20}@[a-z]{1,10}',text)\n",
    "email"
   ]
  },
  {
   "cell_type": "code",
   "execution_count": 84,
   "id": "0f48d99f-6cf9-4291-8e90-e71e645e1fb2",
   "metadata": {},
   "outputs": [
    {
     "data": {
      "text/plain": [
       "2"
      ]
     },
     "execution_count": 84,
     "metadata": {},
     "output_type": "execute_result"
    }
   ],
   "source": [
    "# for search\n",
    "shu = re.findall('shuvam',text)\n",
    "len (shu)"
   ]
  },
  {
   "cell_type": "code",
   "execution_count": 89,
   "id": "c98be7f9-111b-41fe-be93-a0f8197d2982",
   "metadata": {},
   "outputs": [
    {
     "data": {
      "text/plain": [
       "['Viratkohli@gmail.com',\n",
       " 'Amir12khan@gmail.com',\n",
       " 'Ritesh_Deshmukh@yahoomail.com',\n",
       " 'Shreyas-Talpade@gmail.co.in',\n",
       " 'Genelia.deshmukh@outlook.com']"
      ]
     },
     "execution_count": 89,
     "metadata": {},
     "output_type": "execute_result"
    }
   ],
   "source": [
    "emails = ''' Viratkohli@gmail.com,\n",
    "Amir12khan@gmail.com, Ritesh_Deshmukh@yahoomail.com,\n",
    "Shreyas-Talpade@gmail.co.in,Genelia.deshmukh@outlook.com '''\n",
    "email = re.findall('[A-z0-9-_.]{1,20}@[a-z]{3,10}.[a-z.]{1,8}',emails)\n",
    "email"
   ]
  },
  {
   "cell_type": "markdown",
   "id": "a50a0753-ceff-4062-ad12-c82627f4ad89",
   "metadata": {},
   "source": [
    "## notes:\n",
    "\n",
    "- [abc] >> a or b or c\n",
    "- [a-z] >> any lower case char\n",
    "- [A-Z] >> any upper case char\n",
    "- [a-zA-Z] >> any alphabet\n",
    "- [A-z] >> any alphabet\n",
    "- [09] >> 0 or 9\n",
    "- [0-9] >> 0 to 9 digits\n",
    "- [0-9a-zA-Z] >> alphanumeric\n",
    "- [A-z0-9] >> alphanumeric "
   ]
  },
  {
   "cell_type": "markdown",
   "id": "44550716-0d79-4ffd-85d6-ad386b25af47",
   "metadata": {},
   "source": [
    "## 2. re.sub()\n",
    "- re.sub(pattern,new_string,text)\n",
    "- It is used to replace occurences of particular substring with another substring"
   ]
  },
  {
   "cell_type": "code",
   "execution_count": 90,
   "id": "24e944f4-d896-401e-852d-c816064f5e4a",
   "metadata": {},
   "outputs": [],
   "source": [
    "string = 'Machine kearning 1234 5678 is a field of DataScience'\n"
   ]
  },
  {
   "cell_type": "code",
   "execution_count": 91,
   "id": "9267f4f6-4e68-4f07-bda2-d94c5998cfb3",
   "metadata": {},
   "outputs": [
    {
     "data": {
      "text/plain": [
       "'Machine kearning   is a field of DataScience'"
      ]
     },
     "execution_count": 91,
     "metadata": {},
     "output_type": "execute_result"
    }
   ],
   "source": [
    "string  = string.replace('1234','')\n",
    "string = string.replace('5678','')\n",
    "string"
   ]
  },
  {
   "cell_type": "code",
   "execution_count": 96,
   "id": "7c891ccc-96a4-4f70-9919-a6c8a060d96d",
   "metadata": {},
   "outputs": [
    {
     "data": {
      "text/plain": [
       "'Machine kearning   is a field of DataScience'"
      ]
     },
     "execution_count": 96,
     "metadata": {},
     "output_type": "execute_result"
    }
   ],
   "source": [
    "string = 'Machine kearning 1234 5678 is a field of DataScience'\n",
    "res = re.sub('\\d','',string)\n",
    "res"
   ]
  },
  {
   "cell_type": "code",
   "execution_count": 94,
   "id": "ec840321-d196-4374-b91d-660babed43da",
   "metadata": {},
   "outputs": [],
   "source": [
    "import warnings\n",
    "warnings.filterwarnings('ignore' )"
   ]
  },
  {
   "cell_type": "code",
   "execution_count": 99,
   "id": "f24b5873-3d26-483a-b7d6-04126c701608",
   "metadata": {},
   "outputs": [
    {
     "data": {
      "text/plain": [
       "' Mobile **********\\n**********\\n'"
      ]
     },
     "execution_count": 99,
     "metadata": {},
     "output_type": "execute_result"
    }
   ],
   "source": [
    "text = ''' Mobile 7815052095\n",
    "8754958765\n",
    "'''\n",
    "res = re.sub('\\d','*',text)\n",
    "res"
   ]
  },
  {
   "cell_type": "markdown",
   "id": "1f3f41a9-3377-4c4c-ae1f-88c22955bb43",
   "metadata": {},
   "source": [
    "## Special Sequences\n",
    "- 1.\\d"
   ]
  },
  {
   "cell_type": "code",
   "execution_count": 100,
   "id": "f24ec768-9208-4910-922c-cf353b848114",
   "metadata": {},
   "outputs": [
    {
     "data": {
      "text/plain": [
       "['4569 7896 7894']"
      ]
     },
     "execution_count": 100,
     "metadata": {},
     "output_type": "execute_result"
    }
   ],
   "source": [
    "adhar = '4569 7896 7894'\n",
    "num = re.findall('[0-9]{4}[ ][0-9]{4}[ ][0-9]{4}',adhar)\n",
    "num"
   ]
  },
  {
   "cell_type": "code",
   "execution_count": 101,
   "id": "f660df20-5826-4d89-b437-b357b65ab5dc",
   "metadata": {},
   "outputs": [
    {
     "data": {
      "text/plain": [
       "['4569 7896 7894']"
      ]
     },
     "execution_count": 101,
     "metadata": {},
     "output_type": "execute_result"
    }
   ],
   "source": [
    "adhar = '4569 7896 7894'\n",
    "num = re.findall('[\\d]{4}[ ][\\d]{4}[ ][\\d]{4}',adhar)\n",
    "num"
   ]
  },
  {
   "cell_type": "code",
   "execution_count": 102,
   "id": "f97a44e5-bc67-4499-970e-d042329f6e1c",
   "metadata": {},
   "outputs": [],
   "source": [
    "data = ''' Name : Rahul Vijay Patil\n",
    "PAN Number : DTIOP4567I\n",
    "Mobile NUmber : 7815052095\n",
    "DOB : 20/11/2003\n",
    "Email ID : shuvampoddar018@gmail.com\n",
    "adhar_number : 8965 7843 1254\n",
    "'''\n"
   ]
  },
  {
   "cell_type": "code",
   "execution_count": 111,
   "id": "931cb0a0-ddf5-450e-9d0a-2c0e7fc5398d",
   "metadata": {},
   "outputs": [
    {
     "data": {
      "text/plain": [
       "['8965 7843 1254']"
      ]
     },
     "execution_count": 111,
     "metadata": {},
     "output_type": "execute_result"
    }
   ],
   "source": [
    "PAN_NUM = re.findall('[A-Z]{5}[\\d]{4}[A-Z]',data)\n",
    "PAN_NUM\n",
    "DOB  =  re.findall('[\\d]{2}[-/][\\d]{2}[-/][\\d]{4}',data)\n",
    "DOB\n",
    "mob_num = re.findall('[\\d]{10}',data)\n",
    "mob_num\n",
    "email = re.findall('[A-z0-9.-_]{2,20}@[a-z.]{4,20}',data)\n",
    "email\n",
    "adhar = re.findall('\\d{4}[ ]\\d{4}[ ]\\d{4}',data)\n",
    "adhar"
   ]
  },
  {
   "cell_type": "markdown",
   "id": "e9b97e68-1175-453b-aa53-2cb91db28ada",
   "metadata": {},
   "source": [
    "## \\D\n",
    "- \\D >> except [0-9] >>[^0-9] >> Any char except digits"
   ]
  },
  {
   "cell_type": "code",
   "execution_count": 112,
   "id": "a773c8b1-64a0-4673-a0bb-7399a2a8ded5",
   "metadata": {},
   "outputs": [
    {
     "data": {
      "text/plain": [
       "[' ',\n",
       " 'D',\n",
       " 'O',\n",
       " 'B',\n",
       " ' ',\n",
       " ':',\n",
       " ' ',\n",
       " '/',\n",
       " '/',\n",
       " '\\n',\n",
       " 'E',\n",
       " 'm',\n",
       " 'a',\n",
       " 'i',\n",
       " 'l',\n",
       " ' ',\n",
       " 'I',\n",
       " 'D',\n",
       " ' ',\n",
       " ':',\n",
       " ' ',\n",
       " 's',\n",
       " 'h',\n",
       " 'u',\n",
       " 'v',\n",
       " 'a',\n",
       " 'm',\n",
       " 'p',\n",
       " 'o',\n",
       " 'd',\n",
       " 'd',\n",
       " 'a',\n",
       " 'r',\n",
       " '@',\n",
       " 'g',\n",
       " 'm',\n",
       " 'a',\n",
       " 'i',\n",
       " 'l',\n",
       " '.',\n",
       " 'c',\n",
       " 'o',\n",
       " 'm',\n",
       " '\\n',\n",
       " 'A',\n",
       " 'a',\n",
       " 'd',\n",
       " 'h',\n",
       " 'a',\n",
       " 'r',\n",
       " '_',\n",
       " 'n',\n",
       " 'u',\n",
       " 'm',\n",
       " ' ',\n",
       " '=',\n",
       " ' ',\n",
       " ' ',\n",
       " ' ',\n",
       " ' ',\n",
       " ' ',\n",
       " ' ']"
      ]
     },
     "execution_count": 112,
     "metadata": {},
     "output_type": "execute_result"
    }
   ],
   "source": [
    "data = ''' DOB : 12/12/2004\n",
    "Email ID : shuvampoddar018@gmail.com\n",
    "Aadhar_num =  9874 4561 7485  '''\n",
    "result = re.findall('\\D',data)\n",
    "result"
   ]
  },
  {
   "cell_type": "markdown",
   "id": "f37af421-6a4c-4ebe-8c19-ff77b4afe5e1",
   "metadata": {},
   "source": [
    "## 3.\\w\n",
    "- \\w >> [0-9a-zA-Z] >> alphanumeric  "
   ]
  },
  {
   "cell_type": "code",
   "execution_count": 141,
   "id": "01c2eca6-6568-4d9d-a25b-969e248333ec",
   "metadata": {},
   "outputs": [
    {
     "data": {
      "text/plain": [
       "\" Machine  1213456789 learning is a Fiel@d of inquiry dev#oted to understanding and building methods that 'learn',that is , methods that leverages data to improve per$formance on some set of tasks. 567383 It is seen as part of artificial intelligence.\\n\\n\""
      ]
     },
     "execution_count": 141,
     "metadata": {},
     "output_type": "execute_result"
    }
   ],
   "source": [
    "text = ''' Machine  1213456789 learning is a Fiel@d of inquiry dev#oted to understanding and building methods that 'learn',that is , methods that leverages data to improve per$formance on some set of tasks. 567383 It is seen as part of artificial intelligence.\n",
    "\n",
    "'''\n",
    "\n",
    "# result = re.findall('\\w{2,20}',text)\n",
    "result =  re.sub(r'[\\d\\W && [^\\s]]',' ' ,text)\n",
    "result"
   ]
  },
  {
   "cell_type": "code",
   "execution_count": null,
   "id": "412f12a0-672b-4902-9dd5-f269ba6f2f25",
   "metadata": {},
   "outputs": [],
   "source": []
  },
  {
   "cell_type": "code",
   "execution_count": null,
   "id": "a5ccd09b-de26-4774-93ac-f45bbb65068f",
   "metadata": {},
   "outputs": [],
   "source": []
  },
  {
   "cell_type": "code",
   "execution_count": null,
   "id": "15722667-54a3-4390-90f2-71344ca9ea9b",
   "metadata": {},
   "outputs": [],
   "source": []
  },
  {
   "cell_type": "code",
   "execution_count": null,
   "id": "01bc8f72-699f-4261-9581-09c8e4186e8f",
   "metadata": {},
   "outputs": [],
   "source": []
  }
 ],
 "metadata": {
  "kernelspec": {
   "display_name": "Python 3 (ipykernel)",
   "language": "python",
   "name": "python3"
  },
  "language_info": {
   "codemirror_mode": {
    "name": "ipython",
    "version": 3
   },
   "file_extension": ".py",
   "mimetype": "text/x-python",
   "name": "python",
   "nbconvert_exporter": "python",
   "pygments_lexer": "ipython3",
   "version": "3.12.4"
  }
 },
 "nbformat": 4,
 "nbformat_minor": 5
}
